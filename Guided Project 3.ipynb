{
 "cells": [
  {
   "cell_type": "code",
   "execution_count": 1,
   "id": "04f381de",
   "metadata": {},
   "outputs": [],
   "source": [
    "import pandas as pd"
   ]
  },
  {
   "cell_type": "code",
   "execution_count": 3,
   "id": "fc23ba8e",
   "metadata": {},
   "outputs": [],
   "source": [
    "df = pd.read_csv('troop_movements.csv')"
   ]
  },
  {
   "cell_type": "code",
   "execution_count": 4,
   "id": "ba9f614e",
   "metadata": {},
   "outputs": [
    {
     "name": "stdout",
     "output_type": "stream",
     "text": [
      "             timestamp  unit_id           unit_type empire_or_resistance  \\\n",
      "0  2023-10-10 10:25:42        1              x-wing           resistance   \n",
      "1  2023-10-10 10:25:41        2  resistance_soldier           resistance   \n",
      "2  2023-10-10 10:25:40        3  resistance_soldier               empire   \n",
      "3  2023-10-10 10:25:39        4             unknown               empire   \n",
      "4  2023-10-10 10:25:38        5               at-st           resistance   \n",
      "\n",
      "   location_x  location_y  destination_x  destination_y     homeworld  \n",
      "0           2          10              4              7         Shili  \n",
      "1           3           1              8              4  Concord Dawn  \n",
      "2           3           3              8              3        Ryloth  \n",
      "3           3           9              3              9         Cerea  \n",
      "4           7           1              8              5         Naboo  \n"
     ]
    }
   ],
   "source": [
    "print(df.head())"
   ]
  },
  {
   "cell_type": "code",
   "execution_count": null,
   "id": "5cd049b8",
   "metadata": {},
   "outputs": [],
   "source": []
  }
 ],
 "metadata": {
  "kernelspec": {
   "display_name": "Python 3 (ipykernel)",
   "language": "python",
   "name": "python3"
  },
  "language_info": {
   "codemirror_mode": {
    "name": "ipython",
    "version": 3
   },
   "file_extension": ".py",
   "mimetype": "text/x-python",
   "name": "python",
   "nbconvert_exporter": "python",
   "pygments_lexer": "ipython3",
   "version": "3.10.9"
  }
 },
 "nbformat": 4,
 "nbformat_minor": 5
}
