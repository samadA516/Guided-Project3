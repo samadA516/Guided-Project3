{
 "cells": [
  {
   "cell_type": "code",
   "execution_count": 88,
   "id": "8b9a85af",
   "metadata": {},
   "outputs": [],
   "source": [
    "import pandas as pd\n",
    "import numpy as np\n",
    "import seaborn as sns\n",
    "from sklearn.model_selection import train_test_split\n",
    "from sklearn.preprocessing import OneHotEncoder\n",
    "from sklearn.tree import DecisionTreeClassifier\n",
    "from sklearn.metrics import accuracy_score, classification_report"
   ]
  },
  {
   "cell_type": "code",
   "execution_count": 3,
   "id": "462279d1",
   "metadata": {},
   "outputs": [],
   "source": [
    "df = pd.read_csv('troop_movements.csv')"
   ]
  },
  {
   "cell_type": "code",
   "execution_count": 4,
   "id": "3af9ea54",
   "metadata": {},
   "outputs": [
    {
     "name": "stdout",
     "output_type": "stream",
     "text": [
      "             timestamp  unit_id           unit_type empire_or_resistance  \\\n",
      "0  2023-10-10 10:25:42        1              x-wing           resistance   \n",
      "1  2023-10-10 10:25:41        2  resistance_soldier           resistance   \n",
      "2  2023-10-10 10:25:40        3  resistance_soldier               empire   \n",
      "3  2023-10-10 10:25:39        4             unknown               empire   \n",
      "4  2023-10-10 10:25:38        5               at-st           resistance   \n",
      "\n",
      "   location_x  location_y  destination_x  destination_y     homeworld  \n",
      "0           2          10              4              7         Shili  \n",
      "1           3           1              8              4  Concord Dawn  \n",
      "2           3           3              8              3        Ryloth  \n",
      "3           3           9              3              9         Cerea  \n",
      "4           7           1              8              5         Naboo  \n"
     ]
    }
   ],
   "source": [
    "print(df.head())"
   ]
  },
  {
   "cell_type": "code",
   "execution_count": 7,
   "id": "cac6d010",
   "metadata": {},
   "outputs": [
    {
     "name": "stdout",
     "output_type": "stream",
     "text": [
      "<class 'pandas.core.frame.DataFrame'>\n",
      "RangeIndex: 1000 entries, 0 to 999\n",
      "Data columns (total 9 columns):\n",
      " #   Column                Non-Null Count  Dtype \n",
      "---  ------                --------------  ----- \n",
      " 0   timestamp             1000 non-null   object\n",
      " 1   unit_id               1000 non-null   int64 \n",
      " 2   unit_type             1000 non-null   object\n",
      " 3   empire_or_resistance  1000 non-null   object\n",
      " 4   location_x            1000 non-null   int64 \n",
      " 5   location_y            1000 non-null   int64 \n",
      " 6   destination_x         1000 non-null   int64 \n",
      " 7   destination_y         1000 non-null   int64 \n",
      " 8   homeworld             1000 non-null   object\n",
      "dtypes: int64(5), object(4)\n",
      "memory usage: 70.4+ KB\n"
     ]
    }
   ],
   "source": [
    "df.info()"
   ]
  },
  {
   "cell_type": "code",
   "execution_count": 74,
   "id": "4cda4179",
   "metadata": {},
   "outputs": [
    {
     "data": {
      "text/plain": [
       "(None,\n",
       "   empire_or_resistance  Count\n",
       " 0               empire    498\n",
       " 1           resistance    502)"
      ]
     },
     "execution_count": 74,
     "metadata": {},
     "output_type": "execute_result"
    }
   ],
   "source": [
    "grouped = df.groupby('empire_or_resistance')\n",
    "comparison_df = grouped.size().reset_index(name='count')\n",
    "comparison_df.rename(columns={'empire_vs_resistance': 'Group', 'count': 'Count'}, inplace=True), comparison_df"
   ]
  },
  {
   "cell_type": "code",
   "execution_count": 70,
   "id": "1c8235db",
   "metadata": {},
   "outputs": [
    {
     "name": "stdout",
     "output_type": "stream",
     "text": [
      "                Group  Count\n",
      "0               at-at    132\n",
      "1               at-st    113\n",
      "2  resistance_soldier    121\n",
      "3        stormtrooper    149\n",
      "4         tie_fighter    126\n",
      "5        tie_silencer    121\n",
      "6             unknown    121\n",
      "7              x-wing    117\n"
     ]
    }
   ],
   "source": [
    "print(comparison_df)"
   ]
  },
  {
   "cell_type": "code",
   "execution_count": 75,
   "id": "e418c478",
   "metadata": {},
   "outputs": [
    {
     "name": "stdout",
     "output_type": "stream",
     "text": [
      "           Group  Count\n",
      "0       Alderaan     15\n",
      "1    Aleen Minor     22\n",
      "2     Bestine IV     15\n",
      "3          Cerea     32\n",
      "4       Champala     27\n",
      "5      Chandrila     15\n",
      "6   Concord Dawn     28\n",
      "7       Corellia     26\n",
      "8        Dagobah     27\n",
      "9       Dathomir     27\n",
      "10         Dorin     26\n",
      "11        Eriadu     16\n",
      "12   Glee Anselm     16\n",
      "13    Haruun Kal     20\n",
      "14       Iktotch     23\n",
      "15      Iridonia     22\n",
      "16         Kalee     18\n",
      "17      Kashyyyk     20\n",
      "18     Malastare     21\n",
      "19        Mirial     36\n",
      "20      Mon Cala     23\n",
      "21    Muunilinst     24\n",
      "22         Naboo     30\n",
      "23          Ojom     36\n",
      "24       Quermia     21\n",
      "25         Rodia     20\n",
      "26        Ryloth     22\n",
      "27       Serenno     23\n",
      "28         Shili     27\n",
      "29         Skako     27\n",
      "30       Socorro     25\n",
      "31       Stewjon     26\n",
      "32       Sullust     21\n",
      "33      Tatooine     23\n",
      "34       Tholoth     29\n",
      "35      Toydaria     26\n",
      "36     Trandosha     27\n",
      "37       Troiken     28\n",
      "38          Tund     30\n",
      "39        Umbara     21\n",
      "40       Vulpter     21\n",
      "41         Zolan     18\n"
     ]
    }
   ],
   "source": [
    "grouped2 = df.groupby('homeworld')\n",
    "comparison2_df = grouped2.size().reset_index(name='count')\n",
    "comparison2_df.rename(columns={'homeworld': 'Group', 'count': 'Count'}, inplace=True)\n",
    "print(comparison2_df)"
   ]
  },
  {
   "cell_type": "code",
   "execution_count": 76,
   "id": "121fabaa",
   "metadata": {},
   "outputs": [
    {
     "data": {
      "text/plain": [
       "(None,\n",
       "   empire_or_resistance  Count\n",
       " 0               empire    498\n",
       " 1           resistance    502)"
      ]
     },
     "execution_count": 76,
     "metadata": {},
     "output_type": "execute_result"
    }
   ],
   "source": [
    "grouped3 = df.groupby('unit_type')\n",
    "comparison_df3 = grouped3.size().reset_index(name='count')\n",
    "comparison_df3.rename(columns={'unit_type': 'Group', 'count': 'Count'}, inplace=True), comparison_df"
   ]
  },
  {
   "cell_type": "code",
   "execution_count": 51,
   "id": "8ed204b8",
   "metadata": {},
   "outputs": [],
   "source": [
    "def is_resistance(row):\n",
    "    return row['empire_or_resistance'] == 'resistance'"
   ]
  },
  {
   "cell_type": "code",
   "execution_count": 52,
   "id": "e9e374f8",
   "metadata": {},
   "outputs": [],
   "source": [
    "df['is_resistance']= df.apply(is_resistance, axis=1)"
   ]
  },
  {
   "cell_type": "code",
   "execution_count": 53,
   "id": "366ba764",
   "metadata": {},
   "outputs": [
    {
     "name": "stdout",
     "output_type": "stream",
     "text": [
      "               timestamp  unit_id           unit_type empire_or_resistance  \\\n",
      "0    2023-10-10 10:25:42        1              x-wing           resistance   \n",
      "1    2023-10-10 10:25:41        2  resistance_soldier           resistance   \n",
      "2    2023-10-10 10:25:40        3  resistance_soldier               empire   \n",
      "3    2023-10-10 10:25:39        4             unknown               empire   \n",
      "4    2023-10-10 10:25:38        5               at-st           resistance   \n",
      "..                   ...      ...                 ...                  ...   \n",
      "995  2023-10-10 10:09:07      996        tie_silencer               empire   \n",
      "996  2023-10-10 10:09:06      997              x-wing               empire   \n",
      "997  2023-10-10 10:09:05      998  resistance_soldier           resistance   \n",
      "998  2023-10-10 10:09:04      999         tie_fighter               empire   \n",
      "999  2023-10-10 10:09:03     1000               at-st               empire   \n",
      "\n",
      "     location_x  location_y  destination_x  destination_y     homeworld  \\\n",
      "0             2          10              4              7         Shili   \n",
      "1             3           1              8              4  Concord Dawn   \n",
      "2             3           3              8              3        Ryloth   \n",
      "3             3           9              3              9         Cerea   \n",
      "4             7           1              8              5         Naboo   \n",
      "..          ...         ...            ...            ...           ...   \n",
      "995           8           1              1              2      Iridonia   \n",
      "996           8           4              8              8      Champala   \n",
      "997           4           9             10             10         Rodia   \n",
      "998           7           1             10              9       Tholoth   \n",
      "999           6           9              5              8         Zolan   \n",
      "\n",
      "     is_resistance  \n",
      "0             True  \n",
      "1             True  \n",
      "2            False  \n",
      "3            False  \n",
      "4             True  \n",
      "..             ...  \n",
      "995          False  \n",
      "996          False  \n",
      "997           True  \n",
      "998          False  \n",
      "999          False  \n",
      "\n",
      "[1000 rows x 10 columns]\n"
     ]
    }
   ],
   "source": [
    "print(df)"
   ]
  },
  {
   "cell_type": "code",
   "execution_count": 77,
   "id": "e922bf83",
   "metadata": {},
   "outputs": [
    {
     "data": {
      "text/plain": [
       "<Axes: xlabel='empire_or_resistance', ylabel='Count'>"
      ]
     },
     "execution_count": 77,
     "metadata": {},
     "output_type": "execute_result"
    },
    {
     "data": {
      "image/png": "[encoded data removed]",
      "text/plain": [
       "<Figure size 640x480 with 1 Axes>"
      ]
     },
     "metadata": {},
     "output_type": "display_data"
    }
   ],
   "source": [
    "sns.barplot(data=comparison_df, x='empire_or_resistance', y='Count')"
   ]
  },
  {
   "cell_type": "code",
   "execution_count": 71,
   "id": "ca3ee16a",
   "metadata": {},
   "outputs": [
    {
     "name": "stdout",
     "output_type": "stream",
     "text": [
      "            unit_type  Count\n",
      "0               at-at    132\n",
      "1               at-st    113\n",
      "2  resistance_soldier    121\n",
      "3        stormtrooper    149\n",
      "4         tie_fighter    126\n",
      "5        tie_silencer    121\n",
      "6             unknown    121\n",
      "7              x-wing    117\n"
     ]
    }
   ],
   "source": [
    "print(comparison3_df)"
   ]
  },
  {
   "cell_type": "code",
   "execution_count": 92,
   "id": "9c33316a",
   "metadata": {},
   "outputs": [
    {
     "ename": "NameError",
     "evalue": "name 'accuracy_score' is not defined",
     "output_type": "error",
     "traceback": [
      "\u001b[1;31m---------------------------------------------------------------------------\u001b[0m",
      "\u001b[1;31mNameError\u001b[0m                                 Traceback (most recent call last)",
      "Cell \u001b[1;32mIn[92], line 14\u001b[0m\n\u001b[0;32m     10\u001b[0m dt_classifier\u001b[38;5;241m.\u001b[39mfit(X_train_encoded, y_train)\n\u001b[0;32m     12\u001b[0m y_pred \u001b[38;5;241m=\u001b[39m dt_classifier\u001b[38;5;241m.\u001b[39mpredict(X_test_encoded)\n\u001b[1;32m---> 14\u001b[0m accuracy \u001b[38;5;241m=\u001b[39m \u001b[43maccuracy_score\u001b[49m(y_test, y_pred)\n\u001b[0;32m     15\u001b[0m report \u001b[38;5;241m=\u001b[39m classification_report(y_test,y_pred)\n\u001b[0;32m     17\u001b[0m \u001b[38;5;28mprint\u001b[39m(\u001b[38;5;124m\"\u001b[39m\u001b[38;5;124mAccuracy:\u001b[39m\u001b[38;5;124m\"\u001b[39m, accuracy)\n",
      "\u001b[1;31mNameError\u001b[0m: name 'accuracy_score' is not defined"
     ]
    }
   ],
   "source": [
    "x = df[['homeworld','unit_type']]\n",
    "y = df[['empire_or_resistance']]\n",
    "X_train, X_test, y_train, y_test = train_test_split(x, y, test_size=0.2, random_state=42)\n",
    "\n",
    "encoder= OneHotEncoder(sparse_output=False, drop='first')\n",
    "X_train_encoded = encoder.fit_transform(X_train)\n",
    "X_test_encoded = encoder.transform(X_test)\n",
    "\n",
    "dt_classifier = DecisionTreeClassifier()\n",
    "dt_classifier.fit(X_train_encoded, y_train)\n",
    "\n",
    "y_pred = dt_classifier.predict(X_test_encoded)\n",
    "\n",
    "accuracy = accuracy_score(y_test, y_pred)\n",
    "report = classification_report(y_test,y_pred)\n",
    "\n",
    "print(\"Accuracy:\", accuracy)\n",
    "print(\"Classification Report:\\n\", report)"
   ]
  },
  {
   "cell_type": "code",
   "execution_count": null,
   "id": "83428da4",
   "metadata": {},
   "outputs": [],
   "source": []
  }
 ],
 "metadata": {
  "kernelspec": {
   "display_name": "Python 3 (ipykernel)",
   "language": "python",
   "name": "python3"
  },
  "language_info": {
   "codemirror_mode": {
    "name": "ipython",
    "version": 3
   },
   "file_extension": ".py",
   "mimetype": "text/x-python",
   "name": "python",
   "nbconvert_exporter": "python",
   "pygments_lexer": "ipython3",
   "version": "3.10.9"
  }
 },
 "nbformat": 4,
 "nbformat_minor": 5
}
